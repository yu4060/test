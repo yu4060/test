{
 "cells": [
  {
   "cell_type": "code",
   "execution_count": 1,
   "metadata": {},
   "outputs": [
    {
     "data": {
      "text/plain": [
       "2"
      ]
     },
     "execution_count": 1,
     "metadata": {},
     "output_type": "execute_result"
    }
   ],
   "source": [
    "1 + 1"
   ]
  },
  {
   "cell_type": "code",
   "execution_count": 2,
   "metadata": {},
   "outputs": [
    {
     "name": "stdout",
     "output_type": "stream",
     "text": [
      "desserts\n"
     ]
    }
   ],
   "source": [
    "str = 'stressed'\n",
    "print(str[::-1])"
   ]
  },
  {
   "cell_type": "markdown",
   "metadata": {},
   "source": [
    "\"Hi He Lied Because Boron Could Not Oxidize Fluorine. New Nations Might Also Sign Peace Security Clause. Arthur King Can.\"という文を単語に分解し，1, 5, 6, 7, 8, 9, 15, 16, 19番目の単語は先頭の1文字，それ以外の単語は先頭に2文字を取り出し，取り出した文字列から単語の位置（先頭から何番目の単語か）への連想配列（辞書型もしくはマップ型）を作成せよ．"
   ]
  },
  {
   "cell_type": "code",
   "execution_count": 1,
   "metadata": {},
   "outputs": [],
   "source": [
    "s = \"Hi He Lied Because Boron Could Not Oxidize Fluorine. New Nations Might Also Sign Peace Security Clause. Arthur King Can.\""
   ]
  },
  {
   "cell_type": "code",
   "execution_count": 7,
   "metadata": {},
   "outputs": [
    {
     "data": {
      "text/plain": [
       "{'H': 1,\n",
       " 'He': 2,\n",
       " 'Li': 3,\n",
       " 'Be': 4,\n",
       " 'B': 5,\n",
       " 'C': 6,\n",
       " 'N': 7,\n",
       " 'O': 8,\n",
       " 'F': 9,\n",
       " 'Ne': 10,\n",
       " 'Na': 11,\n",
       " 'Mi': 12,\n",
       " 'Al': 13,\n",
       " 'Si': 14,\n",
       " 'P': 15,\n",
       " 'S': 16,\n",
       " 'Cl': 17,\n",
       " 'Ar': 18,\n",
       " 'K': 19,\n",
       " 'Ca': 20}"
      ]
     },
     "execution_count": 7,
     "metadata": {},
     "output_type": "execute_result"
    }
   ],
   "source": [
    "l = s.split(\" \")\n",
    "one = [1, 5, 6, 7, 8, 9, 15, 16, 19]\n",
    "m = {}\n",
    "for i  in range(len(l)):\n",
    "    text = ''\n",
    "    if i+1 in one:\n",
    "        text = l[i][0]\n",
    "    else:\n",
    "        text = l[i][:2]\n",
    "    m[text] = i+1\n",
    "\n",
    "m    "
   ]
  },
  {
   "cell_type": "code",
   "execution_count": 5,
   "metadata": {},
   "outputs": [],
   "source": [
    "f = open('hightemp.txt')"
   ]
  },
  {
   "cell_type": "code",
   "execution_count": 4,
   "metadata": {},
   "outputs": [
    {
     "data": {
      "text/plain": [
       "[]"
      ]
     },
     "execution_count": 4,
     "metadata": {},
     "output_type": "execute_result"
    }
   ],
   "source": [
    "f.readlines()"
   ]
  },
  {
   "cell_type": "code",
   "execution_count": 6,
   "metadata": {},
   "outputs": [
    {
     "data": {
      "text/plain": [
       "24"
      ]
     },
     "execution_count": 6,
     "metadata": {},
     "output_type": "execute_result"
    }
   ],
   "source": [
    "len(f.readlines())"
   ]
  },
  {
   "cell_type": "code",
   "execution_count": 157,
   "metadata": {},
   "outputs": [],
   "source": [
    "with open('hightemp.txt', \"r\") as f:\n",
    "    data = f.readlines() #データを読み込んでリストにする\n",
    "\n",
    "col0 = []\n",
    "\n",
    "for l in data:\n",
    "    l = l.split('\\t')\n",
    "    col0.append(l[0])"
   ]
  },
  {
   "cell_type": "code",
   "execution_count": 158,
   "metadata": {},
   "outputs": [
    {
     "data": {
      "text/plain": [
       "['高知県',\n",
       " '埼玉県',\n",
       " '岐阜県',\n",
       " '山形県',\n",
       " '山梨県',\n",
       " '和歌山県',\n",
       " '静岡県',\n",
       " '山梨県',\n",
       " '埼玉県',\n",
       " '群馬県',\n",
       " '群馬県',\n",
       " '愛知県',\n",
       " '千葉県',\n",
       " '静岡県',\n",
       " '愛媛県',\n",
       " '山形県',\n",
       " '岐阜県',\n",
       " '群馬県',\n",
       " '千葉県',\n",
       " '埼玉県',\n",
       " '大阪府',\n",
       " '山梨県',\n",
       " '山形県',\n",
       " '愛知県']"
      ]
     },
     "execution_count": 158,
     "metadata": {},
     "output_type": "execute_result"
    }
   ],
   "source": [
    "col0"
   ]
  },
  {
   "cell_type": "code",
   "execution_count": 161,
   "metadata": {},
   "outputs": [
    {
     "data": {
      "text/plain": [
       "Counter({'高知県': 1,\n",
       "         '埼玉県': 3,\n",
       "         '岐阜県': 2,\n",
       "         '山形県': 3,\n",
       "         '山梨県': 3,\n",
       "         '和歌山県': 1,\n",
       "         '静岡県': 2,\n",
       "         '群馬県': 3,\n",
       "         '愛知県': 2,\n",
       "         '千葉県': 2,\n",
       "         '愛媛県': 1,\n",
       "         '大阪府': 1})"
      ]
     },
     "execution_count": 161,
     "metadata": {},
     "output_type": "execute_result"
    }
   ],
   "source": [
    "import collections\n",
    "collections.Counter(col0)"
   ]
  },
  {
   "cell_type": "code",
   "execution_count": 178,
   "metadata": {},
   "outputs": [
    {
     "data": {
      "text/plain": [
       "[('高知県', 1),\n",
       " ('和歌山県', 1),\n",
       " ('愛媛県', 1),\n",
       " ('大阪府', 1),\n",
       " ('岐阜県', 2),\n",
       " ('静岡県', 2),\n",
       " ('愛知県', 2),\n",
       " ('千葉県', 2),\n",
       " ('埼玉県', 3),\n",
       " ('山形県', 3),\n",
       " ('山梨県', 3),\n",
       " ('群馬県', 3)]"
      ]
     },
     "execution_count": 178,
     "metadata": {},
     "output_type": "execute_result"
    }
   ],
   "source": [
    "sorted(collections.Counter(col0).items(), key=lambda x: x[1])"
   ]
  },
  {
   "cell_type": "code",
   "execution_count": 172,
   "metadata": {},
   "outputs": [
    {
     "data": {
      "text/plain": [
       "{'高知県': 1,\n",
       " '埼玉県': 3,\n",
       " '岐阜県': 2,\n",
       " '山形県': 3,\n",
       " '山梨県': 3,\n",
       " '和歌山県': 1,\n",
       " '静岡県': 2,\n",
       " '群馬県': 3,\n",
       " '愛知県': 2,\n",
       " '千葉県': 2,\n",
       " '愛媛県': 1,\n",
       " '大阪府': 1}"
      ]
     },
     "execution_count": 172,
     "metadata": {},
     "output_type": "execute_result"
    }
   ],
   "source": [
    "dict(collections.Counter(col0))"
   ]
  },
  {
   "cell_type": "code",
   "execution_count": null,
   "metadata": {},
   "outputs": [],
   "source": []
  }
 ],
 "metadata": {
  "kernelspec": {
   "display_name": "Python 3",
   "language": "python",
   "name": "python3"
  },
  "language_info": {
   "codemirror_mode": {
    "name": "ipython",
    "version": 3
   },
   "file_extension": ".py",
   "mimetype": "text/x-python",
   "name": "python",
   "nbconvert_exporter": "python",
   "pygments_lexer": "ipython3",
   "version": "3.7.1"
  }
 },
 "nbformat": 4,
 "nbformat_minor": 2
}
