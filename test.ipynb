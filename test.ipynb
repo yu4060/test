{
 "cells": [
  {
   "cell_type": "markdown",
   "metadata": {},
   "source": [
    "17. １列目の文字列の異なり\n",
    "1列目の文字列の種類（異なる文字列の集合）を求めよ．確認にはsort, uniqコマンドを用いよ．"
   ]
  },
  {
   "cell_type": "code",
   "execution_count": 136,
   "metadata": {},
   "outputs": [],
   "source": [
    "with open('hightemp.txt', \"r\") as f:\n",
    "    data = f.readlines() #データを読み込んでリストにする"
   ]
  },
  {
   "cell_type": "code",
   "execution_count": 140,
   "metadata": {},
   "outputs": [
    {
     "name": "stdout",
     "output_type": "stream",
     "text": [
      "{'愛媛県', '群馬県', '埼玉県', '山形県', '大阪府', '千葉県', '高知県', '山梨県', '岐阜県', '和歌山県', '愛知県', '静岡県'}\n"
     ]
    }
   ],
   "source": [
    "col1 = set() #1列目の集合を作成\n",
    "for x in data:\n",
    "    x1 = x.split('\\t')\n",
    "    col1.add(x1[0])\n",
    "\n",
    "print(col1)"
   ]
  },
  {
   "cell_type": "code",
   "execution_count": 63,
   "metadata": {},
   "outputs": [],
   "source": [
    "with open('col1.txt', \"r\") as f1:\n",
    "    data1 = f1.read()\n",
    "data1 = data1.split('\\n')"
   ]
  },
  {
   "cell_type": "code",
   "execution_count": 64,
   "metadata": {},
   "outputs": [
    {
     "data": {
      "text/plain": [
       "['高知県',\n",
       " '埼玉県',\n",
       " '岐阜県',\n",
       " '山形県',\n",
       " '山梨県',\n",
       " '和歌山県',\n",
       " '静岡県',\n",
       " '山梨県',\n",
       " '埼玉県',\n",
       " '群馬県',\n",
       " '群馬県',\n",
       " '愛知県',\n",
       " '千葉県',\n",
       " '静岡県',\n",
       " '愛媛県',\n",
       " '山形県',\n",
       " '岐阜県',\n",
       " '群馬県',\n",
       " '千葉県',\n",
       " '埼玉県',\n",
       " '大阪府',\n",
       " '山梨県',\n",
       " '山形県',\n",
       " '愛知県',\n",
       " '']"
      ]
     },
     "execution_count": 64,
     "metadata": {},
     "output_type": "execute_result"
    }
   ],
   "source": [
    "data1"
   ]
  },
  {
   "cell_type": "code",
   "execution_count": null,
   "metadata": {},
   "outputs": [],
   "source": [
    "with open('col1.txt', \"r\") as f:\n",
    "    data = f.read() #データを読み込む\n",
    "data = data.replace(\"\\n\", \"\") #データを置換\n",
    "\n",
    "with open('col1.txt', \"w\") as f: #新しいファイルに置換したデータを書き込む\n",
    "    f.write(data)\n",
    "        "
   ]
  },
  {
   "cell_type": "code",
   "execution_count": 69,
   "metadata": {},
   "outputs": [],
   "source": [
    "with open('col1.txt', \"r\") as f1:\n",
    "    data1 = f1.read()\n",
    "data1 = data1.split('\\n')\n",
    "\n",
    "with open('col2.txt', \"r\") as f2:\n",
    "    data2 = f2.read()\n",
    "data2 = data2.split('\\n')\n",
    "    \n",
    "with open('col.txt', \"w\") as f:\n",
    "    for (a, b) in zip(data1, data2):\n",
    "        f.write(a + '\\t' + b + '\\n')\n",
    "                \n",
    "\n",
    "   \n"
   ]
  },
  {
   "cell_type": "code",
   "execution_count": 34,
   "metadata": {},
   "outputs": [],
   "source": [
    "with open('col1.txt', \"w\") as f1: #col1に1列目を保存\n",
    "    for l in data:\n",
    "        l = l.split('\\t')\n",
    "        f1.write(l[0] + '\\n')"
   ]
  },
  {
   "cell_type": "code",
   "execution_count": 35,
   "metadata": {},
   "outputs": [],
   "source": [
    "with open('col2.txt', \"w\") as f2: #col2に2列目を保存\n",
    "    for l in data:\n",
    "        l = l.split('\\t')\n",
    "        f2.write(l[1] + '\\n')"
   ]
  },
  {
   "cell_type": "code",
   "execution_count": 23,
   "metadata": {},
   "outputs": [
    {
     "data": {
      "text/plain": [
       "['高知県\\t江川崎\\t41\\t2013-08-12\\n',\n",
       " '埼玉県\\t熊谷\\t40.9\\t2007-08-16\\n',\n",
       " '岐阜県\\t多治見\\t40.9\\t2007-08-16\\n',\n",
       " '山形県\\t山形\\t40.8\\t1933-07-25\\n',\n",
       " '山梨県\\t甲府\\t40.7\\t2013-08-10\\n',\n",
       " '和歌山県\\tかつらぎ\\t40.6\\t1994-08-08\\n',\n",
       " '静岡県\\t天竜\\t40.6\\t1994-08-04\\n',\n",
       " '山梨県\\t勝沼\\t40.5\\t2013-08-10\\n',\n",
       " '埼玉県\\t越谷\\t40.4\\t2007-08-16\\n',\n",
       " '群馬県\\t館林\\t40.3\\t2007-08-16\\n',\n",
       " '群馬県\\t上里見\\t40.3\\t1998-07-04\\n',\n",
       " '愛知県\\t愛西\\t40.3\\t1994-08-05\\n',\n",
       " '千葉県\\t牛久\\t40.2\\t2004-07-20\\n',\n",
       " '静岡県\\t佐久間\\t40.2\\t2001-07-24\\n',\n",
       " '愛媛県\\t宇和島\\t40.2\\t1927-07-22\\n',\n",
       " '山形県\\t酒田\\t40.1\\t1978-08-03\\n',\n",
       " '岐阜県\\t美濃\\t40\\t2007-08-16\\n',\n",
       " '群馬県\\t前橋\\t40\\t2001-07-24\\n',\n",
       " '千葉県\\t茂原\\t39.9\\t2013-08-11\\n',\n",
       " '埼玉県\\t鳩山\\t39.9\\t1997-07-05\\n',\n",
       " '大阪府\\t豊中\\t39.9\\t1994-08-08\\n',\n",
       " '山梨県\\t大月\\t39.9\\t1990-07-19\\n',\n",
       " '山形県\\t鶴岡\\t39.9\\t1978-08-03\\n',\n",
       " '愛知県\\t名古屋\\t39.9\\t1942-08-02\\n']"
      ]
     },
     "execution_count": 23,
     "metadata": {},
     "output_type": "execute_result"
    }
   ],
   "source": [
    "data"
   ]
  },
  {
   "cell_type": "code",
   "execution_count": 133,
   "metadata": {},
   "outputs": [
    {
     "name": "stdout",
     "output_type": "stream",
     "text": [
      "ファイル数を指定：5\n"
     ]
    }
   ],
   "source": [
    "n = input(\"ファイル数を指定：\")\n",
    "n = int(n)"
   ]
  },
  {
   "cell_type": "code",
   "execution_count": 134,
   "metadata": {},
   "outputs": [
    {
     "name": "stdout",
     "output_type": "stream",
     "text": [
      "ファイル全体の行数:24\n",
      "1ファイルに書き込む行数:5\n"
     ]
    }
   ],
   "source": [
    "with open('hightemp.txt', \"r\") as f:\n",
    "    data = f.readlines() #データを読み込んでリストにする\n",
    "\n",
    "l = -(-len(data) // n) #行数（全行数 /  分割ファイル数、あまりは切り上げ）\n",
    "print(\"ファイル全体の行数:\" + str(len(data)))\n",
    "print(\"1ファイルに書き込む行数:\" + str(l))\n",
    "\n"
   ]
  },
  {
   "cell_type": "code",
   "execution_count": 135,
   "metadata": {},
   "outputs": [],
   "source": [
    "for i in range(n): #iはファイル数、jは行数\n",
    "    with open('file{}.txt'.format(i+1), \"w\") as f:\n",
    "        for j in range(i*l, min(len(data), (i+1)*l)): #(0行からl行目の1行前まで)（l行目から2*l行の1行前まで）…\n",
    "            f.write(data[j])"
   ]
  },
  {
   "cell_type": "code",
   "execution_count": null,
   "metadata": {},
   "outputs": [],
   "source": [
    "#18. 各行を3コラム目の数値の降順にソート\n",
    "#各行を3コラム目の数値の逆順で整列せよ（注意: 各行の内容は変更せずに並び替えよ）．確認にはsortコマンドを用いよ（この問題はコマンドで実行した時の結果と合わなくて\n",
    "もよい）．"
   ]
  },
  {
   "cell_type": "code",
   "execution_count": 141,
   "metadata": {},
   "outputs": [],
   "source": [
    "with open('hightemp.txt', \"r\") as f:\n",
    "    data = f.readlines() #データを読み込んでリストにする"
   ]
  },
  {
   "cell_type": "code",
   "execution_count": 143,
   "metadata": {},
   "outputs": [],
   "source": []
  },
  {
   "cell_type": "code",
   "execution_count": 144,
   "metadata": {},
   "outputs": [
    {
     "data": {
      "text/plain": [
       "['高知県\\t江川崎\\t41\\t2013-08-12\\n',\n",
       " '埼玉県\\t熊谷\\t40.9\\t2007-08-16\\n',\n",
       " '岐阜県\\t多治見\\t40.9\\t2007-08-16\\n',\n",
       " '山形県\\t山形\\t40.8\\t1933-07-25\\n',\n",
       " '山梨県\\t甲府\\t40.7\\t2013-08-10\\n',\n",
       " '和歌山県\\tかつらぎ\\t40.6\\t1994-08-08\\n',\n",
       " '静岡県\\t天竜\\t40.6\\t1994-08-04\\n',\n",
       " '山梨県\\t勝沼\\t40.5\\t2013-08-10\\n',\n",
       " '埼玉県\\t越谷\\t40.4\\t2007-08-16\\n',\n",
       " '群馬県\\t館林\\t40.3\\t2007-08-16\\n',\n",
       " '群馬県\\t上里見\\t40.3\\t1998-07-04\\n',\n",
       " '愛知県\\t愛西\\t40.3\\t1994-08-05\\n',\n",
       " '千葉県\\t牛久\\t40.2\\t2004-07-20\\n',\n",
       " '静岡県\\t佐久間\\t40.2\\t2001-07-24\\n',\n",
       " '愛媛県\\t宇和島\\t40.2\\t1927-07-22\\n',\n",
       " '山形県\\t酒田\\t40.1\\t1978-08-03\\n',\n",
       " '岐阜県\\t美濃\\t40\\t2007-08-16\\n',\n",
       " '群馬県\\t前橋\\t40\\t2001-07-24\\n',\n",
       " '千葉県\\t茂原\\t39.9\\t2013-08-11\\n',\n",
       " '埼玉県\\t鳩山\\t39.9\\t1997-07-05\\n',\n",
       " '大阪府\\t豊中\\t39.9\\t1994-08-08\\n',\n",
       " '山梨県\\t大月\\t39.9\\t1990-07-19\\n',\n",
       " '山形県\\t鶴岡\\t39.9\\t1978-08-03\\n',\n",
       " '愛知県\\t名古屋\\t39.9\\t1942-08-02\\n']"
      ]
     },
     "execution_count": 144,
     "metadata": {},
     "output_type": "execute_result"
    }
   ],
   "source": [
    "data"
   ]
  },
  {
   "cell_type": "code",
   "execution_count": 156,
   "metadata": {},
   "outputs": [
    {
     "data": {
      "text/plain": [
       "['高知県\\t江川崎\\t41\\t2013-08-12\\n',\n",
       " '埼玉県\\t熊谷\\t40.9\\t2007-08-16\\n',\n",
       " '岐阜県\\t多治見\\t40.9\\t2007-08-16\\n',\n",
       " '山形県\\t山形\\t40.8\\t1933-07-25\\n',\n",
       " '山梨県\\t甲府\\t40.7\\t2013-08-10\\n',\n",
       " '和歌山県\\tかつらぎ\\t40.6\\t1994-08-08\\n',\n",
       " '静岡県\\t天竜\\t40.6\\t1994-08-04\\n',\n",
       " '山梨県\\t勝沼\\t40.5\\t2013-08-10\\n',\n",
       " '埼玉県\\t越谷\\t40.4\\t2007-08-16\\n',\n",
       " '群馬県\\t館林\\t40.3\\t2007-08-16\\n',\n",
       " '群馬県\\t上里見\\t40.3\\t1998-07-04\\n',\n",
       " '愛知県\\t愛西\\t40.3\\t1994-08-05\\n',\n",
       " '千葉県\\t牛久\\t40.2\\t2004-07-20\\n',\n",
       " '静岡県\\t佐久間\\t40.2\\t2001-07-24\\n',\n",
       " '愛媛県\\t宇和島\\t40.2\\t1927-07-22\\n',\n",
       " '山形県\\t酒田\\t40.1\\t1978-08-03\\n',\n",
       " '岐阜県\\t美濃\\t40\\t2007-08-16\\n',\n",
       " '群馬県\\t前橋\\t40\\t2001-07-24\\n',\n",
       " '千葉県\\t茂原\\t39.9\\t2013-08-11\\n',\n",
       " '埼玉県\\t鳩山\\t39.9\\t1997-07-05\\n',\n",
       " '大阪府\\t豊中\\t39.9\\t1994-08-08\\n',\n",
       " '山梨県\\t大月\\t39.9\\t1990-07-19\\n',\n",
       " '山形県\\t鶴岡\\t39.9\\t1978-08-03\\n',\n",
       " '愛知県\\t名古屋\\t39.9\\t1942-08-02\\n']"
      ]
     },
     "execution_count": 156,
     "metadata": {},
     "output_type": "execute_result"
    }
   ],
   "source": [
    "sorted(data, key=lambda data: data.split('\\t')[2], reverse=True)"
   ]
  },
  {
   "cell_type": "code",
   "execution_count": null,
   "metadata": {},
   "outputs": [],
   "source": []
  }
 ],
 "metadata": {
  "kernelspec": {
   "display_name": "Python 3",
   "language": "python",
   "name": "python3"
  },
  "language_info": {
   "codemirror_mode": {
    "name": "ipython",
    "version": 3
   },
   "file_extension": ".py",
   "mimetype": "text/x-python",
   "name": "python",
   "nbconvert_exporter": "python",
   "pygments_lexer": "ipython3",
   "version": "3.7.1"
  }
 },
 "nbformat": 4,
 "nbformat_minor": 2
}
